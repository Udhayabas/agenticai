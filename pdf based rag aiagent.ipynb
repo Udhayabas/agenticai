{
 "cells": [
  {
   "cell_type": "code",
   "execution_count": 1,
   "id": "22a1ad41-ed41-4533-939d-110a22996795",
   "metadata": {},
   "outputs": [],
   "source": [
    "import os\n",
    "import subprocess\n",
    "import faiss\n",
    "from pypdf import PdfReader\n",
    "from sentence_transformers import SentenceTransformer\n",
    "import numpy as np"
   ]
  },
  {
   "cell_type": "code",
   "execution_count": 2,
   "id": "6b75b872-ce67-49a2-8169-544adcf73dab",
   "metadata": {},
   "outputs": [
    {
     "name": "stdout",
     "output_type": "stream",
     "text": [
      "Total characters extracted: 1123\n"
     ]
    }
   ],
   "source": [
    "# STEP 2 — PDF Text Extraction\n",
    "# =========================\n",
    "def extract_text_from_pdf(pdf_path):\n",
    "    reader = PdfReader(pdf_path)\n",
    "    text = \"\"\n",
    "    for page in reader.pages:\n",
    "        text += page.extract_text() + \"\\n\"\n",
    "    return text\n",
    "\n",
    "pdf_path = \"BELT STOCK.pdf\"  # Change this to your file path\n",
    "full_text = extract_text_from_pdf(pdf_path)\n",
    "print(f\"Total characters extracted: {len(full_text)}\")\n"
   ]
  },
  {
   "cell_type": "code",
   "execution_count": 3,
   "id": "0a363fa2-4b16-4e01-ba2e-7c65ee903bba",
   "metadata": {},
   "outputs": [
    {
     "name": "stdout",
     "output_type": "stream",
     "text": [
      "Total chunks created: 1\n"
     ]
    }
   ],
   "source": [
    "# STEP 3 — Chunk the text\n",
    "# =========================\n",
    "def chunk_text(text, chunk_size=1500, overlap=300):\n",
    "    chunks = []\n",
    "    start = 0\n",
    "    while start < len(text):\n",
    "        end = start + chunk_size\n",
    "        chunks.append(text[start:end])\n",
    "        start += chunk_size - overlap\n",
    "    return chunks\n",
    "\n",
    "chunks = chunk_text(full_text, chunk_size=1500, overlap=300)\n",
    "print(f\"Total chunks created: {len(chunks)}\")"
   ]
  },
  {
   "cell_type": "code",
   "execution_count": 4,
   "id": "f6311108-bccb-472b-8abf-92792fcbb045",
   "metadata": {},
   "outputs": [
    {
     "name": "stdout",
     "output_type": "stream",
     "text": [
      "FAISS index created with 1 vectors.\n"
     ]
    }
   ],
   "source": [
    "# STEP 4 — Create FAISS Vector Store\n",
    "# =========================\n",
    "embedder = SentenceTransformer(\"all-MiniLM-L6-v2\")  # Small & fast model\n",
    "embeddings = embedder.encode(chunks, convert_to_numpy=True)\n",
    "\n",
    "dimension = embeddings.shape[1]\n",
    "index = faiss.IndexFlatL2(dimension)\n",
    "index.add(embeddings)\n",
    "print(f\"FAISS index created with {index.ntotal} vectors.\")"
   ]
  },
  {
   "cell_type": "code",
   "execution_count": 5,
   "id": "00c6a7af-3be1-48c7-be54-8a296293e312",
   "metadata": {},
   "outputs": [],
   "source": [
    "# STEP 5 — Ollama query function\n",
    "# =========================\n",
    "def ollama_generate(prompt, model=\"llama3.1:latest\"):\n",
    "    \"\"\"Call Ollama model from Python and return output text.\"\"\"\n",
    "    result = subprocess.run(\n",
    "        [\"ollama\", \"run\", model],\n",
    "        input=prompt.encode(\"utf-8\"),\n",
    "        stdout=subprocess.PIPE\n",
    "    )\n",
    "    return result.stdout.decode(\"utf-8\").strip()\n"
   ]
  },
  {
   "cell_type": "code",
   "execution_count": 15,
   "id": "1010b25e-ee52-45dc-9af1-33d59db78028",
   "metadata": {},
   "outputs": [],
   "source": [
    "# STEP 6 — Ask Questions\n",
    "# =========================\n",
    "def ask(query, top_k=3):\n",
    "    # Step 6.1 — Embed query\n",
    "    q_embedding = embedder.encode([query], convert_to_numpy=True)\n",
    "    \n",
    "    # Step 6.2 — Retrieve top chunks\n",
    "    distances, indices = index.search(q_embedding, top_k)\n",
    "    retrieved_chunks = [chunks[i] for i in indices[0]]\n",
    "    \n",
    "    # Step 6.3 — Build prompt\n",
    "    context = \"\\n\".join(retrieved_chunks)\n",
    "    prompt = f\"\"\"\n",
    "You are a highly precise data extraction and analysis tool. Your sole purpose is to provide a direct, factual answer based ONLY on the provided context.\n",
    "\n",
    "**Instructions:**\n",
    "1.  Carefully examine the 'Context' provided below. The context is a table.\n",
    "2.  Find the exact data requested in the 'Question'.\n",
    "3.  If the answer exists in the context, provide it as a short, direct answer. Do not add any extra commentary, apologies, or explanations.\n",
    "4.  If the specific information requested in the 'Question' is not explicitly present in the 'Context', you MUST respond with a single, clear phrase: \"The information is not available in the provided table.\"\n",
    "\n",
    "**Context:**\n",
    "{context}\n",
    "\n",
    "**Question:** {query}\n",
    "\n",
    "**Answer:**\n",
    "\"\"\"\n",
    "    \n",
    "    # Step 6.4 — Run Ollama\n",
    "    return ollama_generate(prompt)\n"
   ]
  },
  {
   "cell_type": "code",
   "execution_count": 16,
   "id": "bfe110ab-d464-4b0c-b176-7c29cf3c71f6",
   "metadata": {},
   "outputs": [
    {
     "name": "stdout",
     "output_type": "stream",
     "text": [
      "\n",
      "--- Model Answer ---\n",
      " 1739 \n",
      "\n",
      "(From row \"2 ST 1600 (2000 mm)\")\n"
     ]
    }
   ],
   "source": [
    "# STEP 7 — Example Usage\n",
    "# =========================\n",
    "question = \"What is the stockbelt of StrngthST1600,width2000mm in meters?\"\n",
    "answer = ask(question, top_k=3)\n",
    "print(\"\\n--- Model Answer ---\\n\", answer)"
   ]
  },
  {
   "cell_type": "code",
   "execution_count": 17,
   "id": "3df0d578-b215-4ec1-8816-8c6435162714",
   "metadata": {},
   "outputs": [
    {
     "name": "stdout",
     "output_type": "stream",
     "text": [
      "\n",
      "--- Model Answer ---\n",
      " The information is not available in the provided table.\n"
     ]
    }
   ],
   "source": [
    "# STEP 7 — Example Usage\n",
    "# =========================\n",
    "question = \"What is the stockbelt of strengthEP800/4(2400MM)?\"\n",
    "answer = ask(question, top_k=2)\n",
    "print(\"\\n--- Model Answer ---\\n\", answer)"
   ]
  },
  {
   "cell_type": "code",
   "execution_count": 18,
   "id": "cebb21a6-1b7a-494d-b1f4-6bf0b7d3549e",
   "metadata": {},
   "outputs": [
    {
     "name": "stdout",
     "output_type": "stream",
     "text": [
      "\n",
      "--- Model Answer ---\n",
      " The information is not available in the provided table.\n"
     ]
    }
   ],
   "source": [
    "# STEP 7 — Example Usage\n",
    "# =========================\n",
    "question = \"BELT DRUM DETAILS OF EP800/4(2000mm)?\"\n",
    "answer = ask(question, top_k=1)\n",
    "print(\"\\n--- Model Answer ---\\n\", answer)"
   ]
  },
  {
   "cell_type": "code",
   "execution_count": 19,
   "id": "9a9d43c6-0001-420a-9043-2156306a36d0",
   "metadata": {},
   "outputs": [
    {
     "name": "stdout",
     "output_type": "stream",
     "text": [
      "\n",
      "--- Model Answer ---\n",
      " The information is not available in the provided table.\n"
     ]
    }
   ],
   "source": [
    "# STEP 7 — Example Usage\n",
    "# =========================\n",
    "question = \"available belt drum of EP800/4(2000mm) ?\"\n",
    "answer = ask(question, top_k=1)\n",
    "print(\"\\n--- Model Answer ---\\n\", answer)"
   ]
  },
  {
   "cell_type": "code",
   "execution_count": null,
   "id": "d11c6006-5c59-438d-a6f7-ef924d3d57a6",
   "metadata": {},
   "outputs": [],
   "source": []
  }
 ],
 "metadata": {
  "kernelspec": {
   "display_name": "Python 3 (ipykernel)",
   "language": "python",
   "name": "python3"
  },
  "language_info": {
   "codemirror_mode": {
    "name": "ipython",
    "version": 3
   },
   "file_extension": ".py",
   "mimetype": "text/x-python",
   "name": "python",
   "nbconvert_exporter": "python",
   "pygments_lexer": "ipython3",
   "version": "3.11.11"
  }
 },
 "nbformat": 4,
 "nbformat_minor": 5
}
