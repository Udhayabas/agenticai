{
 "cells": [
  {
   "cell_type": "code",
   "execution_count": 3,
   "id": "c4bf45f9-358f-41a2-83c0-85e308d728f8",
   "metadata": {},
   "outputs": [
    {
     "name": "stdout",
     "output_type": "stream",
     "text": [
      "Libraries imported successfully!\n"
     ]
    }
   ],
   "source": [
    "# Install necessary libraries if you haven't already\n",
    "# !pip install pypdf\n",
    "# !pip install langchain\n",
    "# !pip install langchain-google-genai\n",
    "# !pip install chromadb\n",
    "# !pip install -U langchain-community\n",
    "# !pip install --upgrade google-api-python-client google-auth-httplib2 google-auth-oauthlib\n",
    "\n",
    "import os\n",
    "import getpass\n",
    "from langchain.text_splitter import RecursiveCharacterTextSplitter\n",
    "from langchain_community.document_loaders import PyMuPDFLoader\n",
    "from langchain_google_genai import ChatGoogleGenerativeAI, GoogleGenerativeAIEmbeddings\n",
    "from langchain_community.vectorstores import Chroma\n",
    "from langchain.chains.retrieval import create_retrieval_chain\n",
    "from langchain.chains.combine_documents import create_stuff_documents_chain\n",
    "from langchain_core.prompts import ChatPromptTemplate\n",
    "from langchain_core.documents import Document\n",
    "\n",
    "print(\"Libraries imported successfully!\")\n",
    "\n",
    "\n",
    "\n",
    "\n",
    "\n"
   ]
  },
  {
   "cell_type": "code",
   "execution_count": 2,
   "id": "c1466bf0-ea2f-4b84-a5b5-60572437525b",
   "metadata": {},
   "outputs": [
    {
     "name": "stdout",
     "output_type": "stream",
     "text": [
      "Collecting langchain_google_genai\n",
      "  Downloading langchain_google_genai-2.1.9-py3-none-any.whl.metadata (7.2 kB)\n",
      "Collecting filetype<2.0.0,>=1.2.0 (from langchain_google_genai)\n",
      "  Downloading filetype-1.2.0-py2.py3-none-any.whl.metadata (6.5 kB)\n",
      "Collecting google-ai-generativelanguage<0.7.0,>=0.6.18 (from langchain_google_genai)\n",
      "  Downloading google_ai_generativelanguage-0.6.18-py3-none-any.whl.metadata (9.8 kB)\n",
      "Requirement already satisfied: langchain-core<0.4.0,>=0.3.68 in c:\\users\\udhaya\\anaconda3\\envs\\agenticai\\lib\\site-packages (from langchain_google_genai) (0.3.74)\n",
      "Requirement already satisfied: pydantic<3,>=2 in c:\\users\\udhaya\\anaconda3\\envs\\agenticai\\lib\\site-packages (from langchain_google_genai) (2.11.7)\n",
      "Requirement already satisfied: google-api-core!=2.0.*,!=2.1.*,!=2.10.*,!=2.2.*,!=2.3.*,!=2.4.*,!=2.5.*,!=2.6.*,!=2.7.*,!=2.8.*,!=2.9.*,<3.0.0,>=1.34.1 in c:\\users\\udhaya\\anaconda3\\envs\\agenticai\\lib\\site-packages (from google-api-core[grpc]!=2.0.*,!=2.1.*,!=2.10.*,!=2.2.*,!=2.3.*,!=2.4.*,!=2.5.*,!=2.6.*,!=2.7.*,!=2.8.*,!=2.9.*,<3.0.0,>=1.34.1->google-ai-generativelanguage<0.7.0,>=0.6.18->langchain_google_genai) (2.25.1)\n",
      "Requirement already satisfied: google-auth!=2.24.0,!=2.25.0,<3.0.0,>=2.14.1 in c:\\users\\udhaya\\anaconda3\\envs\\agenticai\\lib\\site-packages (from google-ai-generativelanguage<0.7.0,>=0.6.18->langchain_google_genai) (2.40.3)\n",
      "Requirement already satisfied: proto-plus<2.0.0,>=1.22.3 in c:\\users\\udhaya\\anaconda3\\envs\\agenticai\\lib\\site-packages (from google-ai-generativelanguage<0.7.0,>=0.6.18->langchain_google_genai) (1.26.1)\n",
      "Requirement already satisfied: protobuf!=4.21.0,!=4.21.1,!=4.21.2,!=4.21.3,!=4.21.4,!=4.21.5,<7.0.0,>=3.20.2 in c:\\users\\udhaya\\anaconda3\\envs\\agenticai\\lib\\site-packages (from google-ai-generativelanguage<0.7.0,>=0.6.18->langchain_google_genai) (5.29.3)\n",
      "Requirement already satisfied: googleapis-common-protos<2.0.0,>=1.56.2 in c:\\users\\udhaya\\anaconda3\\envs\\agenticai\\lib\\site-packages (from google-api-core!=2.0.*,!=2.1.*,!=2.10.*,!=2.2.*,!=2.3.*,!=2.4.*,!=2.5.*,!=2.6.*,!=2.7.*,!=2.8.*,!=2.9.*,<3.0.0,>=1.34.1->google-api-core[grpc]!=2.0.*,!=2.1.*,!=2.10.*,!=2.2.*,!=2.3.*,!=2.4.*,!=2.5.*,!=2.6.*,!=2.7.*,!=2.8.*,!=2.9.*,<3.0.0,>=1.34.1->google-ai-generativelanguage<0.7.0,>=0.6.18->langchain_google_genai) (1.70.0)\n",
      "Requirement already satisfied: requests<3.0.0,>=2.18.0 in c:\\users\\udhaya\\anaconda3\\envs\\agenticai\\lib\\site-packages (from google-api-core!=2.0.*,!=2.1.*,!=2.10.*,!=2.2.*,!=2.3.*,!=2.4.*,!=2.5.*,!=2.6.*,!=2.7.*,!=2.8.*,!=2.9.*,<3.0.0,>=1.34.1->google-api-core[grpc]!=2.0.*,!=2.1.*,!=2.10.*,!=2.2.*,!=2.3.*,!=2.4.*,!=2.5.*,!=2.6.*,!=2.7.*,!=2.8.*,!=2.9.*,<3.0.0,>=1.34.1->google-ai-generativelanguage<0.7.0,>=0.6.18->langchain_google_genai) (2.32.4)\n",
      "Requirement already satisfied: grpcio<2.0.0,>=1.33.2 in c:\\users\\udhaya\\anaconda3\\envs\\agenticai\\lib\\site-packages (from google-api-core[grpc]!=2.0.*,!=2.1.*,!=2.10.*,!=2.2.*,!=2.3.*,!=2.4.*,!=2.5.*,!=2.6.*,!=2.7.*,!=2.8.*,!=2.9.*,<3.0.0,>=1.34.1->google-ai-generativelanguage<0.7.0,>=0.6.18->langchain_google_genai) (1.73.1)\n",
      "Requirement already satisfied: grpcio-status<2.0.0,>=1.33.2 in c:\\users\\udhaya\\anaconda3\\envs\\agenticai\\lib\\site-packages (from google-api-core[grpc]!=2.0.*,!=2.1.*,!=2.10.*,!=2.2.*,!=2.3.*,!=2.4.*,!=2.5.*,!=2.6.*,!=2.7.*,!=2.8.*,!=2.9.*,<3.0.0,>=1.34.1->google-ai-generativelanguage<0.7.0,>=0.6.18->langchain_google_genai) (1.73.1)\n",
      "Requirement already satisfied: cachetools<6.0,>=2.0.0 in c:\\users\\udhaya\\anaconda3\\envs\\agenticai\\lib\\site-packages (from google-auth!=2.24.0,!=2.25.0,<3.0.0,>=2.14.1->google-ai-generativelanguage<0.7.0,>=0.6.18->langchain_google_genai) (5.5.2)\n",
      "Requirement already satisfied: pyasn1-modules>=0.2.1 in c:\\users\\udhaya\\anaconda3\\envs\\agenticai\\lib\\site-packages (from google-auth!=2.24.0,!=2.25.0,<3.0.0,>=2.14.1->google-ai-generativelanguage<0.7.0,>=0.6.18->langchain_google_genai) (0.4.2)\n",
      "Requirement already satisfied: rsa<5,>=3.1.4 in c:\\users\\udhaya\\anaconda3\\envs\\agenticai\\lib\\site-packages (from google-auth!=2.24.0,!=2.25.0,<3.0.0,>=2.14.1->google-ai-generativelanguage<0.7.0,>=0.6.18->langchain_google_genai) (4.9.1)\n",
      "Collecting protobuf!=4.21.0,!=4.21.1,!=4.21.2,!=4.21.3,!=4.21.4,!=4.21.5,<7.0.0,>=3.20.2 (from google-ai-generativelanguage<0.7.0,>=0.6.18->langchain_google_genai)\n",
      "  Downloading protobuf-6.32.0-cp310-abi3-win_amd64.whl.metadata (593 bytes)\n",
      "Requirement already satisfied: langsmith>=0.3.45 in c:\\users\\udhaya\\anaconda3\\envs\\agenticai\\lib\\site-packages (from langchain-core<0.4.0,>=0.3.68->langchain_google_genai) (0.4.13)\n",
      "Requirement already satisfied: tenacity!=8.4.0,<10.0.0,>=8.1.0 in c:\\users\\udhaya\\anaconda3\\envs\\agenticai\\lib\\site-packages (from langchain-core<0.4.0,>=0.3.68->langchain_google_genai) (8.5.0)\n",
      "Requirement already satisfied: jsonpatch<2.0,>=1.33 in c:\\users\\udhaya\\anaconda3\\envs\\agenticai\\lib\\site-packages (from langchain-core<0.4.0,>=0.3.68->langchain_google_genai) (1.33)\n",
      "Requirement already satisfied: PyYAML>=5.3 in c:\\users\\udhaya\\anaconda3\\envs\\agenticai\\lib\\site-packages (from langchain-core<0.4.0,>=0.3.68->langchain_google_genai) (6.0.2)\n",
      "Requirement already satisfied: typing-extensions>=4.7 in c:\\users\\udhaya\\anaconda3\\envs\\agenticai\\lib\\site-packages (from langchain-core<0.4.0,>=0.3.68->langchain_google_genai) (4.12.2)\n",
      "Requirement already satisfied: packaging>=23.2 in c:\\users\\udhaya\\anaconda3\\envs\\agenticai\\lib\\site-packages (from langchain-core<0.4.0,>=0.3.68->langchain_google_genai) (24.2)\n",
      "Requirement already satisfied: jsonpointer>=1.9 in c:\\users\\udhaya\\anaconda3\\envs\\agenticai\\lib\\site-packages (from jsonpatch<2.0,>=1.33->langchain-core<0.4.0,>=0.3.68->langchain_google_genai) (3.0.0)\n",
      "Requirement already satisfied: annotated-types>=0.6.0 in c:\\users\\udhaya\\anaconda3\\envs\\agenticai\\lib\\site-packages (from pydantic<3,>=2->langchain_google_genai) (0.7.0)\n",
      "Requirement already satisfied: pydantic-core==2.33.2 in c:\\users\\udhaya\\anaconda3\\envs\\agenticai\\lib\\site-packages (from pydantic<3,>=2->langchain_google_genai) (2.33.2)\n",
      "Requirement already satisfied: typing-inspection>=0.4.0 in c:\\users\\udhaya\\anaconda3\\envs\\agenticai\\lib\\site-packages (from pydantic<3,>=2->langchain_google_genai) (0.4.1)\n",
      "Requirement already satisfied: charset_normalizer<4,>=2 in c:\\users\\udhaya\\anaconda3\\envs\\agenticai\\lib\\site-packages (from requests<3.0.0,>=2.18.0->google-api-core!=2.0.*,!=2.1.*,!=2.10.*,!=2.2.*,!=2.3.*,!=2.4.*,!=2.5.*,!=2.6.*,!=2.7.*,!=2.8.*,!=2.9.*,<3.0.0,>=1.34.1->google-api-core[grpc]!=2.0.*,!=2.1.*,!=2.10.*,!=2.2.*,!=2.3.*,!=2.4.*,!=2.5.*,!=2.6.*,!=2.7.*,!=2.8.*,!=2.9.*,<3.0.0,>=1.34.1->google-ai-generativelanguage<0.7.0,>=0.6.18->langchain_google_genai) (3.3.2)\n",
      "Requirement already satisfied: idna<4,>=2.5 in c:\\users\\udhaya\\anaconda3\\envs\\agenticai\\lib\\site-packages (from requests<3.0.0,>=2.18.0->google-api-core!=2.0.*,!=2.1.*,!=2.10.*,!=2.2.*,!=2.3.*,!=2.4.*,!=2.5.*,!=2.6.*,!=2.7.*,!=2.8.*,!=2.9.*,<3.0.0,>=1.34.1->google-api-core[grpc]!=2.0.*,!=2.1.*,!=2.10.*,!=2.2.*,!=2.3.*,!=2.4.*,!=2.5.*,!=2.6.*,!=2.7.*,!=2.8.*,!=2.9.*,<3.0.0,>=1.34.1->google-ai-generativelanguage<0.7.0,>=0.6.18->langchain_google_genai) (3.7)\n",
      "Requirement already satisfied: urllib3<3,>=1.21.1 in c:\\users\\udhaya\\anaconda3\\envs\\agenticai\\lib\\site-packages (from requests<3.0.0,>=2.18.0->google-api-core!=2.0.*,!=2.1.*,!=2.10.*,!=2.2.*,!=2.3.*,!=2.4.*,!=2.5.*,!=2.6.*,!=2.7.*,!=2.8.*,!=2.9.*,<3.0.0,>=1.34.1->google-api-core[grpc]!=2.0.*,!=2.1.*,!=2.10.*,!=2.2.*,!=2.3.*,!=2.4.*,!=2.5.*,!=2.6.*,!=2.7.*,!=2.8.*,!=2.9.*,<3.0.0,>=1.34.1->google-ai-generativelanguage<0.7.0,>=0.6.18->langchain_google_genai) (2.5.0)\n",
      "Requirement already satisfied: certifi>=2017.4.17 in c:\\users\\udhaya\\anaconda3\\envs\\agenticai\\lib\\site-packages (from requests<3.0.0,>=2.18.0->google-api-core!=2.0.*,!=2.1.*,!=2.10.*,!=2.2.*,!=2.3.*,!=2.4.*,!=2.5.*,!=2.6.*,!=2.7.*,!=2.8.*,!=2.9.*,<3.0.0,>=1.34.1->google-api-core[grpc]!=2.0.*,!=2.1.*,!=2.10.*,!=2.2.*,!=2.3.*,!=2.4.*,!=2.5.*,!=2.6.*,!=2.7.*,!=2.8.*,!=2.9.*,<3.0.0,>=1.34.1->google-ai-generativelanguage<0.7.0,>=0.6.18->langchain_google_genai) (2025.6.15)\n",
      "Requirement already satisfied: pyasn1>=0.1.3 in c:\\users\\udhaya\\anaconda3\\envs\\agenticai\\lib\\site-packages (from rsa<5,>=3.1.4->google-auth!=2.24.0,!=2.25.0,<3.0.0,>=2.14.1->google-ai-generativelanguage<0.7.0,>=0.6.18->langchain_google_genai) (0.6.1)\n",
      "Requirement already satisfied: httpx<1,>=0.23.0 in c:\\users\\udhaya\\anaconda3\\envs\\agenticai\\lib\\site-packages (from langsmith>=0.3.45->langchain-core<0.4.0,>=0.3.68->langchain_google_genai) (0.28.1)\n",
      "Requirement already satisfied: orjson>=3.9.14 in c:\\users\\udhaya\\anaconda3\\envs\\agenticai\\lib\\site-packages (from langsmith>=0.3.45->langchain-core<0.4.0,>=0.3.68->langchain_google_genai) (3.10.18)\n",
      "Requirement already satisfied: requests-toolbelt>=1.0.0 in c:\\users\\udhaya\\anaconda3\\envs\\agenticai\\lib\\site-packages (from langsmith>=0.3.45->langchain-core<0.4.0,>=0.3.68->langchain_google_genai) (1.0.0)\n",
      "Requirement already satisfied: zstandard>=0.23.0 in c:\\users\\udhaya\\anaconda3\\envs\\agenticai\\lib\\site-packages (from langsmith>=0.3.45->langchain-core<0.4.0,>=0.3.68->langchain_google_genai) (0.23.0)\n",
      "Requirement already satisfied: anyio in c:\\users\\udhaya\\anaconda3\\envs\\agenticai\\lib\\site-packages (from httpx<1,>=0.23.0->langsmith>=0.3.45->langchain-core<0.4.0,>=0.3.68->langchain_google_genai) (4.9.0)\n",
      "Requirement already satisfied: httpcore==1.* in c:\\users\\udhaya\\anaconda3\\envs\\agenticai\\lib\\site-packages (from httpx<1,>=0.23.0->langsmith>=0.3.45->langchain-core<0.4.0,>=0.3.68->langchain_google_genai) (1.0.9)\n",
      "Requirement already satisfied: h11>=0.16 in c:\\users\\udhaya\\anaconda3\\envs\\agenticai\\lib\\site-packages (from httpcore==1.*->httpx<1,>=0.23.0->langsmith>=0.3.45->langchain-core<0.4.0,>=0.3.68->langchain_google_genai) (0.16.0)\n",
      "Requirement already satisfied: sniffio>=1.1 in c:\\users\\udhaya\\anaconda3\\envs\\agenticai\\lib\\site-packages (from anyio->httpx<1,>=0.23.0->langsmith>=0.3.45->langchain-core<0.4.0,>=0.3.68->langchain_google_genai) (1.3.0)\n",
      "Downloading langchain_google_genai-2.1.9-py3-none-any.whl (49 kB)\n",
      "Downloading filetype-1.2.0-py2.py3-none-any.whl (19 kB)\n",
      "Downloading google_ai_generativelanguage-0.6.18-py3-none-any.whl (1.4 MB)\n",
      "   ---------------------------------------- 0.0/1.4 MB ? eta -:--:--\n",
      "   ------- -------------------------------- 0.3/1.4 MB ? eta -:--:--\n",
      "   ------------------------------ --------- 1.0/1.4 MB 3.4 MB/s eta 0:00:01\n",
      "   ---------------------------------------- 1.4/1.4 MB 3.2 MB/s eta 0:00:00\n",
      "Downloading protobuf-6.32.0-cp310-abi3-win_amd64.whl (435 kB)\n",
      "Installing collected packages: filetype, protobuf, google-ai-generativelanguage, langchain_google_genai\n",
      "\n",
      "  Attempting uninstall: protobuf\n",
      "\n",
      "    Found existing installation: protobuf 5.29.3\n",
      "\n",
      "   ---------- ----------------------------- 1/4 [protobuf]\n",
      "    Uninstalling protobuf-5.29.3:\n",
      "   ---------- ----------------------------- 1/4 [protobuf]\n",
      "      Successfully uninstalled protobuf-5.29.3\n",
      "   ---------- ----------------------------- 1/4 [protobuf]\n",
      "   ---------- ----------------------------- 1/4 [protobuf]\n",
      "   ---------- ----------------------------- 1/4 [protobuf]\n",
      "   ---------- ----------------------------- 1/4 [protobuf]\n",
      "   ---------- ----------------------------- 1/4 [protobuf]\n",
      "   ---------- ----------------------------- 1/4 [protobuf]\n",
      "   ---------- ----------------------------- 1/4 [protobuf]\n",
      "   ---------- ----------------------------- 1/4 [protobuf]\n",
      "   ---------- ----------------------------- 1/4 [protobuf]\n",
      "   ---------- ----------------------------- 1/4 [protobuf]\n",
      "   ---------- ----------------------------- 1/4 [protobuf]\n",
      "   ---------- ----------------------------- 1/4 [protobuf]\n",
      "   ---------- ----------------------------- 1/4 [protobuf]\n",
      "   ---------- ----------------------------- 1/4 [protobuf]\n",
      "   ---------- ----------------------------- 1/4 [protobuf]\n",
      "   ---------- ----------------------------- 1/4 [protobuf]\n",
      "   ---------- ----------------------------- 1/4 [protobuf]\n",
      "   ---------- ----------------------------- 1/4 [protobuf]\n",
      "   ---------- ----------------------------- 1/4 [protobuf]\n",
      "   ---------- ----------------------------- 1/4 [protobuf]\n",
      "   ---------- ----------------------------- 1/4 [protobuf]\n",
      "   -------------------- ------------------- 2/4 [google-ai-generativelanguage]\n",
      "   -------------------- ------------------- 2/4 [google-ai-generativelanguage]\n",
      "   -------------------- ------------------- 2/4 [google-ai-generativelanguage]\n",
      "   -------------------- ------------------- 2/4 [google-ai-generativelanguage]\n",
      "   -------------------- ------------------- 2/4 [google-ai-generativelanguage]\n",
      "   -------------------- ------------------- 2/4 [google-ai-generativelanguage]\n",
      "   -------------------- ------------------- 2/4 [google-ai-generativelanguage]\n",
      "   -------------------- ------------------- 2/4 [google-ai-generativelanguage]\n",
      "   -------------------- ------------------- 2/4 [google-ai-generativelanguage]\n",
      "   -------------------- ------------------- 2/4 [google-ai-generativelanguage]\n",
      "   -------------------- ------------------- 2/4 [google-ai-generativelanguage]\n",
      "   -------------------- ------------------- 2/4 [google-ai-generativelanguage]\n",
      "   -------------------- ------------------- 2/4 [google-ai-generativelanguage]\n",
      "   -------------------- ------------------- 2/4 [google-ai-generativelanguage]\n",
      "   -------------------- ------------------- 2/4 [google-ai-generativelanguage]\n",
      "   -------------------- ------------------- 2/4 [google-ai-generativelanguage]\n",
      "   -------------------- ------------------- 2/4 [google-ai-generativelanguage]\n",
      "   -------------------- ------------------- 2/4 [google-ai-generativelanguage]\n",
      "   -------------------- ------------------- 2/4 [google-ai-generativelanguage]\n",
      "   -------------------- ------------------- 2/4 [google-ai-generativelanguage]\n",
      "   -------------------- ------------------- 2/4 [google-ai-generativelanguage]\n",
      "   -------------------- ------------------- 2/4 [google-ai-generativelanguage]\n",
      "   ------------------------------ --------- 3/4 [langchain_google_genai]\n",
      "   ---------------------------------------- 4/4 [langchain_google_genai]\n",
      "\n",
      "Successfully installed filetype-1.2.0 google-ai-generativelanguage-0.6.18 langchain_google_genai-2.1.9 protobuf-6.32.0\n"
     ]
    },
    {
     "name": "stderr",
     "output_type": "stream",
     "text": [
      "  WARNING: Failed to remove contents in a temporary directory 'C:\\Users\\udhaya\\anaconda3\\envs\\agenticai\\Lib\\site-packages\\google\\~~pb'.\n",
      "  You can safely remove it manually.\n",
      "ERROR: pip's dependency resolver does not currently take into account all the packages that are installed. This behaviour is the source of the following dependency conflicts.\n",
      "autogen-core 0.6.4 requires protobuf~=5.29.3, but you have protobuf 6.32.0 which is incompatible.\n"
     ]
    }
   ],
   "source": [
    "#!pip install langchain_google_genai"
   ]
  },
  {
   "cell_type": "code",
   "execution_count": 5,
   "id": "e6f0a608-9bf3-4e35-8b16-42be8d7bb21e",
   "metadata": {},
   "outputs": [
    {
     "name": "stdin",
     "output_type": "stream",
     "text": [
      "you google code ········\n"
     ]
    },
    {
     "name": "stdout",
     "output_type": "stream",
     "text": [
      "\n",
      "API key set successfully!\n"
     ]
    }
   ],
   "source": [
    "# --- 1. Set up the API Key ---\n",
    "# For security, use getpass to hide your API key input.\n",
    "# Or, you can set it as an environment variable.\n",
    "if \"GOOGLE_API_KEY\" not in os.environ:\n",
    "    os.environ[\"GOOGLE_API_KEY\"] = getpass.getpass(\"you google code\")\n",
    "    print(\"\\nAPI key set successfully!\")\n"
   ]
  },
  {
   "cell_type": "code",
   "execution_count": 9,
   "id": "dee14b9f-434f-4244-975f-d5acd6b2014e",
   "metadata": {},
   "outputs": [
    {
     "name": "stdout",
     "output_type": "stream",
     "text": [
      "Collecting pymupdf\n",
      "  Downloading pymupdf-1.26.3-cp39-abi3-win_amd64.whl.metadata (3.4 kB)\n",
      "Downloading pymupdf-1.26.3-cp39-abi3-win_amd64.whl (18.7 MB)\n",
      "   ---------------------------------------- 0.0/18.7 MB ? eta -:--:--\n",
      "   - -------------------------------------- 0.5/18.7 MB 4.2 MB/s eta 0:00:05\n",
      "   -- ------------------------------------- 1.3/18.7 MB 4.5 MB/s eta 0:00:04\n",
      "   --- ------------------------------------ 1.6/18.7 MB 2.7 MB/s eta 0:00:07\n",
      "   ----- ---------------------------------- 2.4/18.7 MB 3.1 MB/s eta 0:00:06\n",
      "   ----- ---------------------------------- 2.6/18.7 MB 3.3 MB/s eta 0:00:05\n",
      "   ----- ---------------------------------- 2.6/18.7 MB 3.3 MB/s eta 0:00:05\n",
      "   ----- ---------------------------------- 2.6/18.7 MB 3.3 MB/s eta 0:00:05\n",
      "   ------- -------------------------------- 3.4/18.7 MB 2.2 MB/s eta 0:00:08\n",
      "   -------- ------------------------------- 4.2/18.7 MB 2.3 MB/s eta 0:00:07\n",
      "   --------- ------------------------------ 4.5/18.7 MB 2.1 MB/s eta 0:00:07\n",
      "   ----------- ---------------------------- 5.2/18.7 MB 2.3 MB/s eta 0:00:06\n",
      "   ------------ --------------------------- 6.0/18.7 MB 2.5 MB/s eta 0:00:06\n",
      "   ------------- -------------------------- 6.6/18.7 MB 2.5 MB/s eta 0:00:05\n",
      "   --------------- ------------------------ 7.1/18.7 MB 2.5 MB/s eta 0:00:05\n",
      "   ---------------- ----------------------- 7.9/18.7 MB 2.6 MB/s eta 0:00:05\n",
      "   -------------------- ------------------- 9.4/18.7 MB 2.9 MB/s eta 0:00:04\n",
      "   --------------------- ------------------ 10.0/18.7 MB 2.8 MB/s eta 0:00:04\n",
      "   --------------------- ------------------ 10.2/18.7 MB 2.9 MB/s eta 0:00:03\n",
      "   ---------------------- ----------------- 10.5/18.7 MB 2.7 MB/s eta 0:00:04\n",
      "   ---------------------- ----------------- 10.7/18.7 MB 2.6 MB/s eta 0:00:04\n",
      "   ----------------------- ---------------- 11.0/18.7 MB 2.6 MB/s eta 0:00:03\n",
      "   ------------------------- -------------- 11.8/18.7 MB 2.6 MB/s eta 0:00:03\n",
      "   --------------------------- ------------ 12.8/18.7 MB 2.7 MB/s eta 0:00:03\n",
      "   --------------------------- ------------ 13.1/18.7 MB 2.7 MB/s eta 0:00:03\n",
      "   --------------------------- ------------ 13.1/18.7 MB 2.7 MB/s eta 0:00:03\n",
      "   ---------------------------- ----------- 13.4/18.7 MB 2.4 MB/s eta 0:00:03\n",
      "   ---------------------------- ----------- 13.4/18.7 MB 2.4 MB/s eta 0:00:03\n",
      "   ---------------------------- ----------- 13.4/18.7 MB 2.4 MB/s eta 0:00:03\n",
      "   ----------------------------- ---------- 13.9/18.7 MB 2.3 MB/s eta 0:00:03\n",
      "   ------------------------------- -------- 14.7/18.7 MB 2.3 MB/s eta 0:00:02\n",
      "   ---------------------------------- ----- 16.0/18.7 MB 2.5 MB/s eta 0:00:02\n",
      "   ------------------------------------ --- 17.3/18.7 MB 2.6 MB/s eta 0:00:01\n",
      "   -------------------------------------- - 17.8/18.7 MB 2.6 MB/s eta 0:00:01\n",
      "   -------------------------------------- - 18.1/18.7 MB 2.6 MB/s eta 0:00:01\n",
      "   ---------------------------------------- 18.7/18.7 MB 2.6 MB/s eta 0:00:00\n",
      "Installing collected packages: pymupdf\n",
      "Successfully installed pymupdf-1.26.3\n"
     ]
    }
   ],
   "source": [
    "#!pip install pymupdf"
   ]
  },
  {
   "cell_type": "code",
   "execution_count": 10,
   "id": "2afbfd92-9d3c-4eaf-a48f-bb13deff3f6b",
   "metadata": {},
   "outputs": [
    {
     "name": "stdout",
     "output_type": "stream",
     "text": [
      "\n",
      "Loaded 2 pages from BELT STOCK.pdf\n"
     ]
    }
   ],
   "source": [
    "# --- 2. Load the Document ---\n",
    "# Define the path to your PDF file.\n",
    "# The file 'BELT STOCK.pdf' should be in the same directory as this notebook.\n",
    "file_path = \"BELT STOCK.pdf\"\n",
    "try:\n",
    "    loader = PyMuPDFLoader(file_path)\n",
    "    documents = loader.load()\n",
    "    print(f\"\\nLoaded {len(documents)} pages from {file_path}\")\n",
    "except FileNotFoundError:\n",
    "    print(f\"\\nError: The file '{file_path}' was not found. Please ensure it is in the same directory.\")\n",
    "    # Exit gracefully if the file is not found\n",
    "    exit()"
   ]
  },
  {
   "cell_type": "code",
   "execution_count": null,
   "id": "c37af2a2-4363-4dbc-897b-828880640cf2",
   "metadata": {},
   "outputs": [],
   "source": []
  },
  {
   "cell_type": "code",
   "execution_count": null,
   "id": "51bcb978-2521-476f-93a4-b85791b0ae2c",
   "metadata": {},
   "outputs": [],
   "source": []
  },
  {
   "cell_type": "code",
   "execution_count": 11,
   "id": "bae465ca-8d41-48b1-b3af-0e06cbdc5b46",
   "metadata": {},
   "outputs": [
    {
     "name": "stdout",
     "output_type": "stream",
     "text": [
      "Split 2 pages into 2 chunks.\n"
     ]
    }
   ],
   "source": [
    "# --- 3. Split Documents into Chunks ---\n",
    "# We split the documents into smaller, manageable chunks.\n",
    "# This helps the model focus on relevant information without being overwhelmed.\n",
    "# The chunk size and overlap can be tuned for better performance.\n",
    "text_splitter = RecursiveCharacterTextSplitter(chunk_size=1000, chunk_overlap=200)\n",
    "docs = text_splitter.split_documents(documents)\n",
    "print(f\"Split {len(documents)} pages into {len(docs)} chunks.\")\n"
   ]
  },
  {
   "cell_type": "code",
   "execution_count": 12,
   "id": "5048920a-a8db-4b44-b8f1-4586320dbe45",
   "metadata": {},
   "outputs": [
    {
     "name": "stderr",
     "output_type": "stream",
     "text": [
      "Failed to send telemetry event ClientStartEvent: capture() takes 1 positional argument but 3 were given\n",
      "Failed to send telemetry event ClientCreateCollectionEvent: capture() takes 1 positional argument but 3 were given\n"
     ]
    },
    {
     "name": "stdout",
     "output_type": "stream",
     "text": [
      "Vector store created successfully.\n"
     ]
    }
   ],
   "source": [
    "# --- 4. Initialize Embedding Model and Vector Store ---\n",
    "# An embedding model converts text into numerical vectors.\n",
    "# We'll use Google's embedding model for this.\n",
    "embeddings = GoogleGenerativeAIEmbeddings(model=\"models/embedding-001\")\n",
    "\n",
    "# We'll use Chroma as our vector store to store the document chunks and their embeddings.\n",
    "# This allows us to quickly search for relevant chunks later.\n",
    "vectorstore = Chroma.from_documents(docs, embeddings)\n",
    "print(\"Vector store created successfully.\")"
   ]
  },
  {
   "cell_type": "code",
   "execution_count": 13,
   "id": "078f10af-84c7-45b6-b219-fb5f4fedbccc",
   "metadata": {},
   "outputs": [
    {
     "name": "stdout",
     "output_type": "stream",
     "text": [
      "Retriever created.\n"
     ]
    }
   ],
   "source": [
    "# --- 5. Create the Retriever ---\n",
    "# The retriever is a key component of RAG. It's responsible for fetching\n",
    "# the most relevant document chunks based on a user's query.\n",
    "retriever = vectorstore.as_retriever()\n",
    "print(\"Retriever created.\")"
   ]
  },
  {
   "cell_type": "code",
   "execution_count": 14,
   "id": "cf2626b3-8796-4519-98fc-09ac7ab1c18e",
   "metadata": {},
   "outputs": [],
   "source": [
    "# --- 6. Set up the RAG Chain ---\n",
    "# First, define the prompt template that will guide the LLM's response.\n",
    "# The prompt tells the model to use the provided context to answer the question.\n",
    "prompt = ChatPromptTemplate.from_template(\"\"\"\n",
    "Answer the user's question based only on the provided context.\n",
    "If you do not have enough information in the context, please state that you cannot answer.\n",
    "\n",
    "Context:\n",
    "{context}\n",
    "\n",
    "Question:\n",
    "{input}\n",
    "\"\"\")"
   ]
  },
  {
   "cell_type": "code",
   "execution_count": 17,
   "id": "efa2da5d-e679-4358-b89c-43c0d385aa0e",
   "metadata": {},
   "outputs": [
    {
     "name": "stdout",
     "output_type": "stream",
     "text": [
      "RAG chain setup complete.\n"
     ]
    }
   ],
   "source": [
    "# Initialize the LLM with the gemini-2.5-flash model.\n",
    "llm = ChatGoogleGenerativeAI(model=\"gemini-2.5-flash\")\n",
    "\n",
    "# Create a 'stuff' documents chain. This chain takes the retrieved documents\n",
    "# and 'stuffs' them into the prompt's context.\n",
    "document_chain = create_stuff_documents_chain(llm, prompt)\n",
    "\n",
    "# Create the final retrieval chain. This chain combines the retriever and the document chain.\n",
    "# When a user asks a question, this chain will:\n",
    "# 1. Retrieve relevant documents using the retriever.\n",
    "# 2. Pass those documents to the document chain for generation.\n",
    "retrieval_chain = create_retrieval_chain(retriever, document_chain)\n",
    "print(\"RAG chain setup complete.\")\n"
   ]
  },
  {
   "cell_type": "code",
   "execution_count": 22,
   "id": "0e86c198-e8d7-4993-a23e-5bf42ae479b2",
   "metadata": {},
   "outputs": [
    {
     "name": "stdout",
     "output_type": "stream",
     "text": [
      "\n",
      "--- Testing the RAG Agent with a specific question ---\n"
     ]
    },
    {
     "name": "stderr",
     "output_type": "stream",
     "text": [
      "Number of requested results 4 is greater than number of elements in index 2, updating n_results = 2\n"
     ]
    },
    {
     "name": "stdout",
     "output_type": "stream",
     "text": [
      "\n",
      "Question: What is the total belt stock?\n",
      "\n",
      "Answer:\n",
      "TOTAL BELT STOCK - 8961METERS\n"
     ]
    }
   ],
   "source": [
    "# --- 7. Test the Agent ---\n",
    "print(\"\\n--- Testing the RAG Agent with a specific question ---\")\n",
    "question = \"What is the total belt stock?\"\n",
    "\n",
    "# Invoke the chain with the question.\n",
    "response = retrieval_chain.invoke({\"input\": question})\n",
    "\n",
    "# Print the final answer from the RAG agent.\n",
    "print(\"\\nQuestion:\", question)\n",
    "print(\"\\nAnswer:\")\n",
    "print(response[\"answer\"])\n"
   ]
  },
  {
   "cell_type": "code",
   "execution_count": null,
   "id": "406d15d3-d3df-46be-b953-d36f0318790e",
   "metadata": {},
   "outputs": [],
   "source": [
    "# --- 8. Optional: Clean up ---\n",
    "# You can delete the Chroma collection if you're done.\n",
    "# vectorstore.delete_collection()\n",
    "# print(\"\\nVector store collection deleted.\")\n"
   ]
  },
  {
   "cell_type": "code",
   "execution_count": 20,
   "id": "600d6915-54c2-4d42-8d56-4e52f2a91bc4",
   "metadata": {},
   "outputs": [
    {
     "name": "stdout",
     "output_type": "stream",
     "text": [
      "\n",
      "--- Testing the RAG Agent with a list of questions ---\n",
      "--------------------------------------------------\n",
      "Question: What is the belt drum details of BELT STRENGTH AND BELT WIDTH EP800/4 (1600MM)?\n"
     ]
    },
    {
     "name": "stderr",
     "output_type": "stream",
     "text": [
      "Number of requested results 4 is greater than number of elements in index 2, updating n_results = 2\n"
     ]
    },
    {
     "name": "stdout",
     "output_type": "stream",
     "text": [
      "Answer:\n",
      "The belt drum details for BELT STRENGTH AND BELT WIDTH EP800/4 (1600MM) is 99meter-1.\n",
      "--------------------------------------------------\n",
      "Question: What is the total stock belt in meters for the ST 2000 (2000 mm) belt?\n"
     ]
    },
    {
     "name": "stderr",
     "output_type": "stream",
     "text": [
      "Number of requested results 4 is greater than number of elements in index 2, updating n_results = 2\n"
     ]
    },
    {
     "name": "stdout",
     "output_type": "stream",
     "text": [
      "Answer:\n",
      "Based on the provided context, the total stock belt for ST 2000 (2000 mm) is 2565 meters.\n",
      "--------------------------------------------------\n",
      "Question: Give me the belt drum details of ST 1400 (2000mm).\n"
     ]
    },
    {
     "name": "stderr",
     "output_type": "stream",
     "text": [
      "Number of requested results 4 is greater than number of elements in index 2, updating n_results = 2\n"
     ]
    },
    {
     "name": "stdout",
     "output_type": "stream",
     "text": [
      "Answer:\n",
      "I cannot answer this question as the provided context does not contain the belt drum details for ST 1400 (2000mm).\n",
      "--------------------------------------------------\n",
      "Question: What are the belt drum details for the EP800/4 belt with a 2400mm width?\n"
     ]
    },
    {
     "name": "stderr",
     "output_type": "stream",
     "text": [
      "Number of requested results 4 is greater than number of elements in index 2, updating n_results = 2\n"
     ]
    },
    {
     "name": "stdout",
     "output_type": "stream",
     "text": [
      "Answer:\n",
      "I cannot answer what the belt drum details are for the EP800/4 belt with a 2400mm width, as this information is not provided in the context.\n"
     ]
    }
   ],
   "source": [
    "#--- 7. Test the Agent with multiple questions ---\n",
    "print(\"\\n--- Testing the RAG Agent with a list of questions ---\")\n",
    "\n",
    "# Define a list of questions you want to ask.\n",
    "questions = [\n",
    "    \"What is the belt drum details of BELT STRENGTH AND BELT WIDTH EP800/4 (1600MM)?\",\n",
    "    \"What is the total stock belt in meters for the ST 2000 (2000 mm) belt?\",\n",
    "    \"Give me the belt drum details of ST 1400 (2000mm).\",\n",
    "    \"What are the belt drum details for the EP800/4 belt with a 2400mm width?\"\n",
    "]\n",
    "\n",
    "# Loop through the questions and get the answers.\n",
    "for question in questions:\n",
    "    print(\"-\" * 50)\n",
    "    print(f\"Question: {question}\")\n",
    "    response = retrieval_chain.invoke({\"input\": question})\n",
    "    print(\"Answer:\")\n",
    "    print(response[\"answer\"])\n",
    "\n"
   ]
  },
  {
   "cell_type": "code",
   "execution_count": 32,
   "id": "98b7922d-5203-4f8a-9a75-1341b89610c9",
   "metadata": {},
   "outputs": [
    {
     "name": "stderr",
     "output_type": "stream",
     "text": [
      "Number of requested results 4 is greater than number of elements in index 2, updating n_results = 2\n"
     ]
    },
    {
     "name": "stdout",
     "output_type": "stream",
     "text": [
      "\n",
      "Question: What is the belt drum details of belt strength and widthST2000(2000mm)?\n",
      "\n",
      "Answer (Table):\n",
      "I cannot answer the question as the provided context does not contain the belt drum details for ST 2000 (2000mm).\n"
     ]
    }
   ],
   "source": [
    "system_prompt =  \"\"\"Answer ONLY in tabular format.\n",
    "Each row must represent one belt entry from the BELT STOCK table.\n",
    "Columns: Belt Strength and width | Belt stock| drum details (m) | Number of Drums | make | .\n",
    "Do not add explanations outside the table.\"\"\"\n",
    "               \n",
    "\n",
    "\n",
    "question = \"What is the belt drum details of belt strength and widthST2000(2000mm)?\"\n",
    "\n",
    "response = retrieval_chain.invoke({\"input\": f\"{system_prompt}\\n\\nQuestion: {question}\"})\n",
    "\n",
    "print(\"\\nQuestion:\", question)\n",
    "print(\"\\nAnswer (Table):\")\n",
    "print(response[\"answer\"])\n"
   ]
  },
  {
   "cell_type": "code",
   "execution_count": null,
   "id": "2c12b348-e9bf-466b-a542-c6b042875ab4",
   "metadata": {},
   "outputs": [],
   "source": []
  }
 ],
 "metadata": {
  "kernelspec": {
   "display_name": "Python 3 (ipykernel)",
   "language": "python",
   "name": "python3"
  },
  "language_info": {
   "codemirror_mode": {
    "name": "ipython",
    "version": 3
   },
   "file_extension": ".py",
   "mimetype": "text/x-python",
   "name": "python",
   "nbconvert_exporter": "python",
   "pygments_lexer": "ipython3",
   "version": "3.11.11"
  }
 },
 "nbformat": 4,
 "nbformat_minor": 5
}
