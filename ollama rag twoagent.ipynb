{
 "cells": [
  {
   "cell_type": "code",
   "execution_count": 1,
   "id": "43df7766-9d1f-4555-b478-4b33ec91e8ad",
   "metadata": {},
   "outputs": [
    {
     "name": "stdout",
     "output_type": "stream",
     "text": [
      "Ready — make sure Ollama is running (run `ollama list` in a terminal).\n"
     ]
    }
   ],
   "source": [
    "# Cell 1 — run first\n",
    "import os\n",
    "\n",
    "# Disable Autogen telemetry (if you later import autogen)\n",
    "os.environ[\"AUTOGEN_DISABLE_TELEMETRY\"] = \"true\"\n",
    "\n",
    "# Silence HF symlink warning on Windows (optional)\n",
    "os.environ[\"HF_HUB_DISABLE_SYMLINKS_WARNING\"] = \"1\"\n",
    "\n",
    "# Install required packages (uncomment if not installed)\n",
    "# Use !pip in notebook to install into the notebook env\n",
    "!pip install -q sentence-transformers PyPDF2\n",
    "\n",
    "print(\"Ready — make sure Ollama is running (run `ollama list` in a terminal).\")\n"
   ]
  },
  {
   "cell_type": "code",
   "execution_count": 2,
   "id": "8d1512c7-b40c-4c33-9a22-2ceed84180a0",
   "metadata": {},
   "outputs": [],
   "source": [
    "# Cell 2\n",
    "from sentence_transformers import SentenceTransformer\n",
    "import numpy as np\n",
    "from PyPDF2 import PdfReader\n",
    "import subprocess\n",
    "import math\n",
    "import textwrap\n"
   ]
  },
  {
   "cell_type": "code",
   "execution_count": 3,
   "id": "6a441234-2744-47cd-88d4-9cc7715cd3e6",
   "metadata": {},
   "outputs": [
    {
     "name": "stdout",
     "output_type": "stream",
     "text": [
      "Extracting text (this may take a few seconds)...\n",
      "Total characters extracted: 993\n",
      "Created 1 chunks.\n"
     ]
    }
   ],
   "source": [
    "# Cell 3\n",
    "def extract_text_from_pdf(pdf_path):\n",
    "    reader = PdfReader(pdf_path)\n",
    "    pages = []\n",
    "    for page in reader.pages:\n",
    "        text = page.extract_text() or \"\"\n",
    "        pages.append(text)\n",
    "    return \"\\n\\n\".join(pages)\n",
    "\n",
    "def chunk_text(text, max_chars=1200, overlap=200):\n",
    "    \"\"\"Simple character-based chunking with overlap.\n",
    "       Returns list of dicts: [{'id':i, 'text': chunk_text}, ...]\"\"\"\n",
    "    chunks = []\n",
    "    start = 0\n",
    "    n = len(text)\n",
    "    i = 0\n",
    "    while start < n:\n",
    "        end = start + max_chars\n",
    "        chunk = text[start:end]\n",
    "        chunks.append({\"id\": i, \"text\": chunk.strip()})\n",
    "        i += 1\n",
    "        start = end - overlap  # overlap\n",
    "    return chunks\n",
    "\n",
    "# Example: load your PDF and create chunks\n",
    "pdf_path = \"BELT STOCK.pdf\"   # <-- change to your PDF filename/path\n",
    "print(\"Extracting text (this may take a few seconds)...\")\n",
    "doc_text = extract_text_from_pdf(pdf_path)\n",
    "print(f\"Total characters extracted: {len(doc_text)}\")\n",
    "\n",
    "chunks = chunk_text(doc_text, max_chars=1200, overlap=200)\n",
    "print(f\"Created {len(chunks)} chunks.\")\n"
   ]
  },
  {
   "cell_type": "code",
   "execution_count": 4,
   "id": "db1abea2-d354-45b3-a5a2-1f33ef72b486",
   "metadata": {},
   "outputs": [
    {
     "name": "stdout",
     "output_type": "stream",
     "text": [
      "Loading embedding model (this will download if not present)...\n"
     ]
    },
    {
     "data": {
      "application/vnd.jupyter.widget-view+json": {
       "model_id": "ce4bb0bb6bf3440094f9a4bb0ec70868",
       "version_major": 2,
       "version_minor": 0
      },
      "text/plain": [
       "Batches:   0%|          | 0/1 [00:00<?, ?it/s]"
      ]
     },
     "metadata": {},
     "output_type": "display_data"
    },
    {
     "name": "stdout",
     "output_type": "stream",
     "text": [
      "Vector store ready.\n"
     ]
    }
   ],
   "source": [
    "# Cell 4\n",
    "print(\"Loading embedding model (this will download if not present)...\")\n",
    "embed_model_name = \"sentence-transformers/all-MiniLM-L6-v2\"\n",
    "embedder = SentenceTransformer(embed_model_name)\n",
    "\n",
    "# Create embeddings for chunks\n",
    "texts = [c[\"text\"] for c in chunks]\n",
    "embs = embedder.encode(texts, show_progress_bar=True, convert_to_numpy=True)\n",
    "\n",
    "# Normalize embeddings for cosine similarity speed\n",
    "def normalize(v):\n",
    "    norms = np.linalg.norm(v, axis=1, keepdims=True)\n",
    "    norms[norms == 0] = 1.0\n",
    "    return v / norms\n",
    "\n",
    "embs_norm = normalize(embs)\n",
    "\n",
    "class SimpleVectorStore:\n",
    "    def __init__(self, embeddings_norm, chunks):\n",
    "        self.emb = embeddings_norm  # numpy array (n, d)\n",
    "        self.chunks = chunks\n",
    "\n",
    "    def search(self, query_emb, top_k=3):\n",
    "        \"\"\"Return list of (chunk, score) sorted by score desc.\"\"\"\n",
    "        # normalize query\n",
    "        q = query_emb / (np.linalg.norm(query_emb) + 1e-12)\n",
    "        scores = (self.emb @ q).flatten()  # cosine similarity\n",
    "        idx = np.argsort(-scores)[:top_k]\n",
    "        results = []\n",
    "        for i in idx:\n",
    "            results.append((self.chunks[i], float(scores[i])))\n",
    "        return results\n",
    "\n",
    "store = SimpleVectorStore(embs_norm, chunks)\n",
    "print(\"Vector store ready.\")\n"
   ]
  },
  {
   "cell_type": "code",
   "execution_count": 9,
   "id": "b43ba4e7-7de6-439e-81c0-035e212eda84",
   "metadata": {},
   "outputs": [],
   "source": [
    "# Cell 5\n",
    "OLLAMA_MODEL = \"llama3.2:latest\"   # change if needed\n",
    "\n",
    "def call_ollama_cli(prompt, model=OLLAMA_MODEL, timeout=120):\n",
    "    \"\"\"Call `ollama run <model> \"<prompt>\"` via subprocess and return stdout or stderr.\"\"\"\n",
    "    # Use subprocess with list args so quoting is safe\n",
    "    cmd = [\"ollama\", \"run\", model, prompt]\n",
    "    try:\n",
    "        proc = subprocess.run(cmd, capture_output=True, text=True, timeout=timeout)\n",
    "    except subprocess.TimeoutExpired:\n",
    "        return \"ERROR: Ollama call timed out.\"\n",
    "\n",
    "    if proc.returncode != 0:\n",
    "        return f\"ERROR (return code {proc.returncode}):\\n{proc.stderr.strip()}\"\n",
    "    return proc.stdout.strip()\n",
    "\n",
    "def ask(question, top_k=3, max_context_chars=3000, model=OLLAMA_MODEL):\n",
    "    # 1) embed query\n",
    "    q_emb = embedder.encode([question], convert_to_numpy=True)[0]\n",
    "    # 2) search\n",
    "    hits = store.search(q_emb, top_k=top_k)\n",
    "    # 3) build context (concatenate, but keep length bounded)\n",
    "    ctx_parts = []\n",
    "    total = 0\n",
    "    for chunk, score in hits:\n",
    "        txt = chunk[\"text\"].strip()\n",
    "        if total + len(txt) > max_context_chars:\n",
    "            # truncate last chunk if necessary\n",
    "            txt = txt[: max_context_chars - total]\n",
    "            ctx_parts.append(txt)\n",
    "            break\n",
    "        ctx_parts.append(txt)\n",
    "        total += len(txt) + 2\n",
    "    context = \"\\n\\n---\\n\\n\".join(ctx_parts)\n",
    "\n",
    "    # 4) Compose prompt for the model\n",
    "    system_msg = (\n",
    "        \"You are an assistant that answers questions using the provided CONTEXT. \"\n",
    "        \"If the context doesn't contain the answer, say you don't know instead of making things up. \"\n",
    "        \"Be concise and cite the relevant context snippet numbers if useful.\"\n",
    "    )\n",
    "\n",
    "    # Include chunk ids for traceability\n",
    "    context_with_ids = []\n",
    "    for c in hits:\n",
    "        chunk_obj = c[0]\n",
    "        context_with_ids.append(f\"[chunk {chunk_obj['id']}] {chunk_obj['text'][:1000]}\")  # show first 1000 chars\n",
    "\n",
    "    context_block = \"\\n\\n\".join(context_with_ids)\n",
    "\n",
    "    prompt = textwrap.dedent(f\"\"\"\n",
    "    {system_msg}\n",
    "\n",
    "    CONTEXT (retrieved snippets):\n",
    "    {context_block}\n",
    "\n",
    "    USER QUESTION:\n",
    "    {question}\n",
    "\n",
    "    ANSWER:\n",
    "    \"\"\").strip()\n",
    "\n",
    "    # 5) Call Ollama via CLI\n",
    "    print(\"Calling Ollama... (this may take a few seconds)\")\n",
    "    out = call_ollama_cli(prompt, model=model)\n",
    "    return out\n"
   ]
  },
  {
   "cell_type": "code",
   "execution_count": 6,
   "id": "1d3afd4e-74a3-4916-a9c6-d0a2005ed2ad",
   "metadata": {},
   "outputs": [
    {
     "name": "stdout",
     "output_type": "stream",
     "text": [
      "Calling Ollama... (this may take a few seconds)\n",
      "-----\n",
      "Model answer:\n",
      "\n",
      "TOTAL BELT STOCK IN HAND = 9655 MTRS\n"
     ]
    }
   ],
   "source": [
    "# Cell 6 — ask a question\n",
    "question = \"What is the total belt stock available\"\n",
    "answer = ask(question, top_k=4)\n",
    "print(\"-----\\nModel answer:\\n\")\n",
    "print(answer)\n"
   ]
  },
  {
   "cell_type": "code",
   "execution_count": null,
   "id": "27412981-a62b-46e9-bbff-e42db2475392",
   "metadata": {},
   "outputs": [],
   "source": []
  }
 ],
 "metadata": {
  "kernelspec": {
   "display_name": "Python 3 (ipykernel)",
   "language": "python",
   "name": "python3"
  },
  "language_info": {
   "codemirror_mode": {
    "name": "ipython",
    "version": 3
   },
   "file_extension": ".py",
   "mimetype": "text/x-python",
   "name": "python",
   "nbconvert_exporter": "python",
   "pygments_lexer": "ipython3",
   "version": "3.11.11"
  }
 },
 "nbformat": 4,
 "nbformat_minor": 5
}
